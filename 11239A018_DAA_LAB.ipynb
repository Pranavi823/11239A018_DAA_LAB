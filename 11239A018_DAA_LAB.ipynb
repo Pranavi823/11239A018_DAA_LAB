{
  "nbformat": 4,
  "nbformat_minor": 0,
  "metadata": {
    "colab": {
      "provenance": [],
      "authorship_tag": "ABX9TyN/Q9ceQW0M6bfNo2RW8SXl",
      "include_colab_link": true
    },
    "kernelspec": {
      "name": "python3",
      "display_name": "Python 3"
    },
    "language_info": {
      "name": "python"
    }
  },
  "cells": [
    {
      "cell_type": "markdown",
      "metadata": {
        "id": "view-in-github",
        "colab_type": "text"
      },
      "source": [
        "<a href=\"https://colab.research.google.com/github/Pranavi823/11239A018_DAA_LAB/blob/main/11239A018_DAA_LAB.ipynb\" target=\"_parent\"><img src=\"https://colab.research.google.com/assets/colab-badge.svg\" alt=\"Open In Colab\"/></a>"
      ]
    },
    {
      "cell_type": "markdown",
      "source": [
        "**TOWER OF HANOI**"
      ],
      "metadata": {
        "id": "PCgB18oZEGqY"
      }
    },
    {
      "cell_type": "code",
      "execution_count": null,
      "metadata": {
        "colab": {
          "base_uri": "https://localhost:8080/"
        },
        "id": "CSB9Bu4_WM86",
        "outputId": "4833a7e5-e1d0-4920-8c37-c75feb18288a"
      },
      "outputs": [
        {
          "output_type": "stream",
          "name": "stdout",
          "text": [
            "Move disk 1 from A to C\n",
            "Move disk 2 from A to B\n",
            "Move disk 1 from C to B\n",
            "Move disk 3 from A to C\n",
            "Move disk 1 from B to A\n",
            "Move disk 2 from B to C\n",
            "Move disk 1 from A to C\n"
          ]
        }
      ],
      "source": [
        "def tower_of_hanoi(n, source, target, auxiliary):\n",
        "\n",
        "    if n == 1:\n",
        "        print(f\"Move disk 1 from {source} to {target}\")\n",
        "        return\n",
        "\n",
        "\n",
        "    tower_of_hanoi(n-1, source, auxiliary, target)\n",
        "\n",
        "    print(f\"Move disk {n} from {source} to {target}\")\n",
        "\n",
        "    tower_of_hanoi(n-1, auxiliary, target, source)\n",
        "\n",
        "\n",
        "n = 3\n",
        "tower_of_hanoi(n, 'A', 'C', 'B')\n"
      ]
    },
    {
      "cell_type": "markdown",
      "source": [
        "**FIBONACCI (ITERATIVE)**"
      ],
      "metadata": {
        "id": "zUwpU9LcE1WS"
      }
    },
    {
      "cell_type": "code",
      "source": [
        "def fibonacci_iterative(n):\n",
        "    fib_series = [0, 1]\n",
        "    for i in range(2, n):\n",
        "        fib_series.append(fib_series[i - 1] + fib_series[i - 2])\n",
        "    return fib_series\n",
        "\n",
        "\n",
        "n = 10\n",
        "print(fibonacci_iterative(n))\n"
      ],
      "metadata": {
        "colab": {
          "base_uri": "https://localhost:8080/"
        },
        "id": "w1pwTFn3Wgqz",
        "outputId": "7d28b133-3d36-48e2-a52d-50b754b455b6"
      },
      "execution_count": null,
      "outputs": [
        {
          "output_type": "stream",
          "name": "stdout",
          "text": [
            "[0, 1, 1, 2, 3, 5, 8, 13, 21, 34]\n"
          ]
        }
      ]
    },
    {
      "cell_type": "markdown",
      "source": [
        "**FIBONACCI(RECURSIVE)**"
      ],
      "metadata": {
        "id": "sF5o3EYJFBCl"
      }
    },
    {
      "cell_type": "code",
      "source": [
        "def fibonacci_recursive(n):\n",
        "    if n <= 1:\n",
        "        return n\n",
        "    else:\n",
        "        return fibonacci_recursive(n - 1) + fibonacci_recursive(n - 2)\n",
        "\n",
        "terms\n",
        "n = 10\n",
        "fib_series = [fibonacci_recursive(i) for i in range(n)]\n",
        "print(fib_series)\n"
      ],
      "metadata": {
        "colab": {
          "base_uri": "https://localhost:8080/"
        },
        "id": "OCIoxBt1Wpoj",
        "outputId": "e8250406-d560-485a-8a5a-2e3313d253a0"
      },
      "execution_count": null,
      "outputs": [
        {
          "output_type": "stream",
          "name": "stdout",
          "text": [
            "[0, 1, 1, 2, 3, 5, 8, 13, 21, 34]\n"
          ]
        }
      ]
    },
    {
      "cell_type": "markdown",
      "source": [
        "**BIN PACKING**"
      ],
      "metadata": {
        "id": "wR19WwjmFI1A"
      }
    },
    {
      "cell_type": "code",
      "source": [
        "def bin_packing(weights, bin_capacity):\n",
        "    bins = []\n",
        "\n",
        "    for weight in weights:\n",
        "        placed = False\n",
        "\n",
        "\n",
        "        for bin in bins:\n",
        "            if sum(bin) + weight <= bin_capacity:\n",
        "                bin.append(weight)\n",
        "                placed = True\n",
        "                break\n",
        "\n",
        "\n",
        "        if not placed:\n",
        "            bins.append([weight])\n",
        "\n",
        "    return bins\n",
        "\n",
        "\n",
        "weights = [5, 3, 4, 7, 2, 6, 8]\n",
        "bin_capacity = 10\n",
        "bins = bin_packing(weights, bin_capacity)\n",
        "\n",
        "\n",
        "print(f\"Items: {weights}\")\n",
        "print(f\"Bin Capacity: {bin_capacity}\")\n",
        "print(f\"Packed Bins: {bins}\")\n"
      ],
      "metadata": {
        "colab": {
          "base_uri": "https://localhost:8080/"
        },
        "id": "B3kQRIvlYKG8",
        "outputId": "d5752f19-dc68-4425-9e5b-819836fa3325"
      },
      "execution_count": null,
      "outputs": [
        {
          "output_type": "stream",
          "name": "stdout",
          "text": [
            "Items: [5, 3, 4, 7, 2, 6, 8]\n",
            "Bin Capacity: 10\n",
            "Packed Bins: [[5, 3, 2], [4, 6], [7], [8]]\n"
          ]
        }
      ]
    },
    {
      "cell_type": "markdown",
      "source": [
        "**KNAPSACK (brute force)**"
      ],
      "metadata": {
        "id": "nnqFS3xaFQt8"
      }
    },
    {
      "cell_type": "code",
      "source": [
        "def knapsack_brute_force(capacity, n):\n",
        "    print(f\"knapsack_brute_force({capacity},{n})\")\n",
        "    if n == 0 or capacity == 0:\n",
        "        return 0\n",
        "\n",
        "    elif weights[n-1] > capacity:\n",
        "        return knapsack_brute_force(capacity, n-1)\n",
        "\n",
        "    else:\n",
        "        include_item = values[n-1] + knapsack_brute_force(capacity-weights[n-1], n-1)\n",
        "        exclude_item = knapsack_brute_force(capacity, n-1)\n",
        "        return max(include_item, exclude_item)\n",
        "\n",
        "values = [300, 200, 400, 500]\n",
        "weights = [2, 1, 5, 3]\n",
        "capacity = 3\n",
        "n = len(values)\n",
        "\n",
        "print(\"\\nMaximum value in Knapsack =\", knapsack_brute_force(capacity, n))"
      ],
      "metadata": {
        "colab": {
          "base_uri": "https://localhost:8080/"
        },
        "id": "K8u8nzNkixTH",
        "outputId": "ff5fd9b4-7d87-43ba-9e7b-2758e72a3fb6"
      },
      "execution_count": null,
      "outputs": [
        {
          "output_type": "stream",
          "name": "stdout",
          "text": [
            "knapsack_brute_force(3,4)\n",
            "knapsack_brute_force(0,3)\n",
            "knapsack_brute_force(3,3)\n",
            "knapsack_brute_force(3,2)\n",
            "knapsack_brute_force(2,1)\n",
            "knapsack_brute_force(0,0)\n",
            "knapsack_brute_force(2,0)\n",
            "knapsack_brute_force(3,1)\n",
            "knapsack_brute_force(1,0)\n",
            "knapsack_brute_force(3,0)\n",
            "\n",
            "Maximum value in Knapsack = 500\n"
          ]
        }
      ]
    },
    {
      "cell_type": "markdown",
      "source": [
        "**KNAPSACK (bounded)**"
      ],
      "metadata": {
        "id": "CJpP7dsIFYVR"
      }
    },
    {
      "cell_type": "code",
      "source": [
        "def bounded_knapsack(capacity, weights, values, quantities):\n",
        "    \"\"\"\n",
        "    Solves the bounded knapsack problem using dynamic programming.\n",
        "\n",
        "    Args:\n",
        "        capacity: The maximum weight capacity of the knapsack.\n",
        "        weights: A list of item weights.\n",
        "        values: A list of item values.\n",
        "        quantities: A list of the maximum number of each item that can be taken.\n",
        "\n",
        "    Returns:\n",
        "        The maximum total value that can be placed in the knapsack.\n",
        "    \"\"\"\n",
        "\n",
        "    n = len(weights)\n",
        "    dp = [[0 for _ in range(capacity + 1)] for _ in range(n + 1)]\n",
        "\n",
        "    for i in range(1, n + 1):\n",
        "        for w in range(1, capacity + 1):\n",
        "            for k in range(quantities[i-1] + 1):\n",
        "                if k * weights[i-1] <= w:\n",
        "                    dp[i][w] = max(dp[i][w], dp[i-1][w - k * weights[i-1]] + k * values[i-1])\n",
        "                else:\n",
        "                    break\n",
        "\n",
        "    return dp[n][capacity]\n",
        "\n",
        "capacity = 10\n",
        "weights = [2, 3, 4, 5]\n",
        "values = [3, 4, 5, 7]\n",
        "quantities = [2, 3, 1, 2]\n",
        "\n",
        "max_value = bounded_knapsack(capacity, weights, values, quantities)\n",
        "print(f\"The maximum value that can be placed in the knapsack is: {max_value}\")"
      ],
      "metadata": {
        "colab": {
          "base_uri": "https://localhost:8080/"
        },
        "id": "v3eVP4_Bi5r-",
        "outputId": "864f53ef-fa44-4b5b-aa87-c1e0017512ec"
      },
      "execution_count": null,
      "outputs": [
        {
          "output_type": "stream",
          "name": "stdout",
          "text": [
            "The maximum value that can be placed in the knapsack is: 14\n"
          ]
        }
      ]
    },
    {
      "cell_type": "markdown",
      "source": [
        "**KNAPSACK (unbounded)**"
      ],
      "metadata": {
        "id": "kW5FvI92FfWI"
      }
    },
    {
      "cell_type": "code",
      "source": [
        "def unbounded_knapsack(W, wt, val, n):\n",
        "    dp = [0] * (W + 1)\n",
        "\n",
        "    for i in range(W + 1):\n",
        "        for j in range(n):\n",
        "            if wt[j] <= i:\n",
        "                dp[i] = max(dp[i], dp[i - wt[j]] + val[j])\n",
        "\n",
        "    return dp[W]\n",
        "\n",
        "# Example usage\n",
        "val = [10, 30, 20]\n",
        "wt = [5, 10, 15]\n",
        "W = 100\n",
        "n = len(val)\n",
        "\n",
        "max_value = unbounded_knapsack(W, wt, val, n)\n",
        "print(\"Maximum value we can obtain:\", max_value)\n"
      ],
      "metadata": {
        "colab": {
          "base_uri": "https://localhost:8080/"
        },
        "id": "dvFdu7MnCuQC",
        "outputId": "4cf795a1-54af-4911-a1a9-e165ef7b2a1d"
      },
      "execution_count": null,
      "outputs": [
        {
          "output_type": "stream",
          "name": "stdout",
          "text": [
            "Maximum value we can obtain: 300\n"
          ]
        }
      ]
    },
    {
      "cell_type": "markdown",
      "source": [
        "**KNAPSACK (fractional)**"
      ],
      "metadata": {
        "id": "79lJm0B4GA6n"
      }
    },
    {
      "cell_type": "code",
      "source": [
        "def fractional_knapsack(W, weights, values):\n",
        "    n = len(weights)\n",
        "    # Calculate value-to-weight ratio and store with weight and value\n",
        "    items = [(values[i] / weights[i], weights[i], values[i]) for i in range(n)]\n",
        "    # Sort items by ratio in descending order\n",
        "    items.sort(reverse=True)\n",
        "\n",
        "    total_value = 0.0\n",
        "\n",
        "    for ratio, weight, value in items:\n",
        "        if W >= weight:\n",
        "            # Take the whole item\n",
        "            W -= weight\n",
        "            total_value += value\n",
        "        else:\n",
        "            # Take the fraction of the remaining weight\n",
        "            total_value += ratio * W\n",
        "            break\n",
        "\n",
        "    return total_value\n",
        "\n",
        "# Example usage\n",
        "values = [60, 100, 120]\n",
        "weights = [10, 20, 30]\n",
        "W = 50\n",
        "\n",
        "max_value = fractional_knapsack(W, weights, values)\n",
        "print(\"Maximum value we can obtain:\", max_value)\n"
      ],
      "metadata": {
        "id": "PFxZ0kjTjq8O",
        "colab": {
          "base_uri": "https://localhost:8080/"
        },
        "outputId": "8829af8e-6d78-4a7c-c748-b809f02be95e"
      },
      "execution_count": null,
      "outputs": [
        {
          "output_type": "stream",
          "name": "stdout",
          "text": [
            "Maximum value we can obtain: 240.0\n"
          ]
        }
      ]
    },
    {
      "cell_type": "markdown",
      "source": [
        "**TRAVELLING SALES MAN**"
      ],
      "metadata": {
        "id": "RjBIhjhaGG1v"
      }
    },
    {
      "cell_type": "code",
      "source": [
        "import itertools\n",
        "\n",
        "\n",
        "def calculate_total_distance(route, dist_matrix):\n",
        "    total_distance = 0\n",
        "    for i in range(len(route) - 1):\n",
        "        total_distance += dist_matrix[route[i]][route[i + 1]]\n",
        "    total_distance += dist_matrix[route[-1]][route[0]]\n",
        "    return total_distance\n",
        "\n",
        "\n",
        "def traveling_salesman_bruteforce(dist_matrix):\n",
        "    n = len(dist_matrix)\n",
        "    cities = list(range(n))\n",
        "\n",
        "\n",
        "    all_routes = itertools.permutations(cities)\n",
        "\n",
        "    min_distance = float('inf')\n",
        "    best_route = None\n",
        "\n",
        "    for route in all_routes:\n",
        "        total_distance = calculate_total_distance(route, dist_matrix)\n",
        "\n",
        "        if total_distance < min_distance:\n",
        "            min_distance = total_distance\n",
        "            best_route = route\n",
        "\n",
        "    return best_route, min_distance\n",
        "\n",
        "dist_matrix = [\n",
        "    [0, 10, 15, 20, 25],  # Distances from city 0\n",
        "    [10, 0, 35, 25, 30],  # Distances from city 1\n",
        "    [15, 35, 0, 30, 5],   # Distances from city 2\n",
        "    [20, 25, 30, 0, 15],  # Distances from city 3\n",
        "    [25, 30, 5, 15, 0]    # Distances from city 4\n",
        "]\n",
        "\n",
        "\n",
        "best_route, min_distance = traveling_salesman_bruteforce(dist_matrix)\n",
        "\n",
        "\n",
        "print(f\"Best route: {best_route}\")\n",
        "print(f\"Minimum distance: {min_distance}\")\n"
      ],
      "metadata": {
        "colab": {
          "base_uri": "https://localhost:8080/"
        },
        "id": "ow5nkX6aYZ2A",
        "outputId": "ac0a58a7-2d87-473a-900e-c4b38e4de62f"
      },
      "execution_count": null,
      "outputs": [
        {
          "output_type": "stream",
          "name": "stdout",
          "text": [
            "Best route: (0, 1, 3, 4, 2)\n",
            "Minimum distance: 70\n"
          ]
        }
      ]
    },
    {
      "cell_type": "markdown",
      "source": [
        "**MINIMUM SPANNING TREE(kruskals algorithm)**"
      ],
      "metadata": {
        "id": "h3IdrJ9aGaDF"
      }
    },
    {
      "cell_type": "code",
      "source": [
        "\n",
        "class DisjointSet:\n",
        "    def __init__(self, n):\n",
        "        self.parent = list(range(n))\n",
        "        self.rank = [0] * n\n",
        "\n",
        "    def find(self, u):\n",
        "        if self.parent[u] != u:\n",
        "            self.parent[u] = self.find(self.parent[u])\n",
        "        return self.parent[u]\n",
        "\n",
        "    def union(self, u, v):\n",
        "        root_u = self.find(u)\n",
        "        root_v = self.find(v)\n",
        "\n",
        "        if root_u != root_v:\n",
        "\n",
        "            if self.rank[root_u] > self.rank[root_v]:\n",
        "                self.parent[root_v] = root_u\n",
        "            elif self.rank[root_u] < self.rank[root_v]:\n",
        "                self.parent[root_u] = root_v\n",
        "            else:\n",
        "                self.parent[root_v] = root_u\n",
        "                self.rank[root_u] += 1\n",
        "            return True\n",
        "        return False\n",
        "\n",
        "\n",
        "def kruskal(n, edges):\n",
        "\n",
        "    edges.sort(key=lambda x: x[2])\n",
        "\n",
        "    ds = DisjointSet(n)\n",
        "    mst = []\n",
        "    mst_weight = 0\n",
        "\n",
        "    for u, v, weight in edges:\n",
        "        if ds.union(u, v):\n",
        "            mst.append((u, v, weight))\n",
        "            mst_weight += weight\n",
        "\n",
        "    return mst, mst_weight\n",
        "\n",
        "\n",
        "edges = [\n",
        "    (0, 1, 10),\n",
        "    (0, 2, 6),\n",
        "    (0, 3, 5),\n",
        "    (1, 3, 15),\n",
        "    (2, 3, 4)\n",
        "]\n",
        "n = 4\n",
        "\n",
        "mst, mst_weight = kruskal(n, edges)\n",
        "\n",
        "print(\"Edges in MST:\", mst)\n",
        "print(\"Total weight of MST:\", mst_weight)\n"
      ],
      "metadata": {
        "colab": {
          "base_uri": "https://localhost:8080/"
        },
        "id": "R95nr94-YpHS",
        "outputId": "d7d65f0e-0619-4fe4-f7e6-ff13d72df6ec"
      },
      "execution_count": null,
      "outputs": [
        {
          "output_type": "stream",
          "name": "stdout",
          "text": [
            "Edges in MST: [(2, 3, 4), (0, 3, 5), (0, 1, 10)]\n",
            "Total weight of MST: 19\n"
          ]
        }
      ]
    },
    {
      "cell_type": "markdown",
      "source": [
        "**MINIMUM SPANNING TREE(prims algorithm)**"
      ],
      "metadata": {
        "id": "jGzFVJN5Gzkf"
      }
    },
    {
      "cell_type": "code",
      "source": [
        "import heapq\n",
        "\n",
        "def prims_algorithm(graph, start):\n",
        "\n",
        "    n = len(graph)\n",
        "\n",
        "\n",
        "    mst = []\n",
        "    min_heap = [(0, start)]\n",
        "    visited = set()\n",
        "    total_weight = 0\n",
        "\n",
        "    while min_heap:\n",
        "        weight, node = heapq.heappop(min_heap)\n",
        "\n",
        "        if node not in visited:\n",
        "            visited.add(node)\n",
        "            total_weight += weight\n",
        "            if weight != 0:\n",
        "                mst.append((prev_node, node, weight))\n",
        "\n",
        "\n",
        "            for neighbor, edge_weight in graph[node]:\n",
        "                if neighbor not in visited:\n",
        "                    heapq.heappush(min_heap, (edge_weight, neighbor))\n",
        "                    prev_node = node\n",
        "\n",
        "    return mst, total_weight\n",
        "\n",
        "\n",
        "graph = {\n",
        "    0: [(1, 2), (3, 6)],\n",
        "    1: [(0, 2), (2, 3), (3, 8)],\n",
        "    2: [(1, 3), (3, 5)],\n",
        "    3: [(0, 6), (1, 8), (2, 5)]\n",
        "}\n",
        "\n",
        "\n",
        "start_node = 0\n",
        "mst, mst_weight = prims_algorithm(graph, start_node)\n",
        "\n",
        "print(\"Edges in MST:\", mst)\n",
        "print(\"Total weight of MST:\", mst_weight)\n"
      ],
      "metadata": {
        "colab": {
          "base_uri": "https://localhost:8080/"
        },
        "id": "mq_QId5BZjYA",
        "outputId": "769c8e4d-9ba1-4160-d3f4-9377950f6766"
      },
      "execution_count": null,
      "outputs": [
        {
          "output_type": "stream",
          "name": "stdout",
          "text": [
            "Edges in MST: [(0, 1, 2), (1, 2, 3), (2, 3, 5)]\n",
            "Total weight of MST: 10\n"
          ]
        }
      ]
    },
    {
      "cell_type": "markdown",
      "source": [
        "**SHORTEST PATH ALGORITHM(dijkstra algorithm)**"
      ],
      "metadata": {
        "id": "-dsqt0QgG9e6"
      }
    },
    {
      "cell_type": "code",
      "source": [
        "import heapq\n",
        "\n",
        "def dijkstra(graph, start):\n",
        "\n",
        "    distances = {node: float('inf') for node in graph}\n",
        "    distances[start] = 0\n",
        "\n",
        "\n",
        "    pq = [(0, start)]\n",
        "\n",
        "    while pq:\n",
        "        current_dist, current_node = heapq.heappop(pq)\n",
        "\n",
        "\n",
        "        if current_dist > distances[current_node]:\n",
        "            continue\n",
        "\n",
        "\n",
        "        for neighbor, weight in graph[current_node]:\n",
        "            distance = current_dist + weight\n",
        "            if distance < distances[neighbor]:\n",
        "                distances[neighbor] = distance\n",
        "                heapq.heappush(pq, (distance, neighbor))\n",
        "\n",
        "    return distances\n",
        "\n",
        "graph = {\n",
        "    0: [(1, 2), (2, 4)],\n",
        "    1: [(0, 2), (2, 1), (3, 7)],\n",
        "    2: [(0, 4), (1, 1), (3, 3)],\n",
        "    3: [(1, 7), (2, 3)]\n",
        "}\n",
        "\n",
        "start_node = 0\n",
        "shortest_paths = dijkstra(graph, start_node)\n",
        "\n",
        "print(f\"Shortest distances from node {start_node}: {shortest_paths}\")\n"
      ],
      "metadata": {
        "colab": {
          "base_uri": "https://localhost:8080/"
        },
        "id": "m0I60AT1ZMHx",
        "outputId": "bdd79a69-92ad-4d18-f4c7-3a0913d24c3f"
      },
      "execution_count": null,
      "outputs": [
        {
          "output_type": "stream",
          "name": "stdout",
          "text": [
            "Shortest distances from node 0: {0: 0, 1: 2, 2: 3, 3: 6}\n"
          ]
        }
      ]
    },
    {
      "cell_type": "markdown",
      "source": [
        "**SHORTEST PATH ALGORITHM(bellman ford algorithm)**"
      ],
      "metadata": {
        "id": "EssBMcvMHptO"
      }
    },
    {
      "cell_type": "code",
      "source": [
        "def bellman_ford(V, edges, source):\n",
        "    # Step 1: Initialize distances and predecessor\n",
        "    distance = [float('inf')] * V\n",
        "    predecessor = [-1] * V\n",
        "    distance[source] = 0\n",
        "\n",
        "    # Step 2: Relax all edges V-1 times\n",
        "    for _ in range(V - 1):\n",
        "        for u, v, w in edges:\n",
        "            if distance[u] + w < distance[v]:\n",
        "                distance[v] = distance[u] + w\n",
        "                predecessor[v] = u\n",
        "\n",
        "    # Step 3: Check for negative-weight cycles\n",
        "    for u, v, w in edges:\n",
        "        if distance[u] + w < distance[v]:\n",
        "            print(\"Graph contains a negative weight cycle\")\n",
        "            return\n",
        "\n",
        "    # Print distances and paths\n",
        "    print(\"Vertex\\tDistance\\tPath\")\n",
        "    for i in range(V):\n",
        "        if distance[i] == float('inf'):\n",
        "            print(f\"{i}\\t∞\\t\\tNo path\")\n",
        "        else:\n",
        "            path = []\n",
        "            current = i\n",
        "            while current != -1:\n",
        "                path.append(current)\n",
        "                current = predecessor[current]\n",
        "            path.reverse()\n",
        "            print(f\"{i}\\t{distance[i]}\\t\\t{' -> '.join(map(str, path))}\")\n",
        "\n",
        "# Example usage\n",
        "edges = [\n",
        "    (0, 1, 4),\n",
        "    (0, 2, 5),\n",
        "    (1, 2, -3),\n",
        "    (2, 3, 4),\n",
        "    (3, 1, 6)\n",
        "]\n",
        "V = 4\n",
        "source = 0\n",
        "\n",
        "bellman_ford(V, edges, source)\n"
      ],
      "metadata": {
        "colab": {
          "base_uri": "https://localhost:8080/"
        },
        "id": "gUUsJshRIYPF",
        "outputId": "468dc20a-47bb-4152-9cd2-6d966ed95897"
      },
      "execution_count": null,
      "outputs": [
        {
          "output_type": "stream",
          "name": "stdout",
          "text": [
            "Vertex\tDistance\tPath\n",
            "0\t0\t\t0\n",
            "1\t4\t\t0 -> 1\n",
            "2\t1\t\t0 -> 1 -> 2\n",
            "3\t5\t\t0 -> 1 -> 2 -> 3\n"
          ]
        }
      ]
    },
    {
      "cell_type": "markdown",
      "source": [
        "**RANDOMIZED ALGORITHM**"
      ],
      "metadata": {
        "id": "cdtc1wu-I3hL"
      }
    },
    {
      "cell_type": "code",
      "source": [
        "import random\n",
        "\n",
        "def randomized_quick_sort(arr):\n",
        "    if len(arr) <= 1:\n",
        "        return arr\n",
        "\n",
        "    pivot = random.choice(arr)\n",
        "\n",
        "\n",
        "    less_than_pivot = [x for x in arr if x < pivot]\n",
        "    greater_than_pivot = [x for x in arr if x > pivot]\n",
        "\n",
        "\n",
        "    return randomized_quick_sort(less_than_pivot) + [pivot] + randomized_quick_sort(greater_than_pivot)\n",
        "\n",
        "arr = [10, 7, 8, 9, 1, 5]\n",
        "sorted_arr = randomized_quick_sort(arr)\n",
        "print(f\"Sorted array: {sorted_arr}\")\n"
      ],
      "metadata": {
        "colab": {
          "base_uri": "https://localhost:8080/"
        },
        "id": "vjjcahSEaxy8",
        "outputId": "0b0b9f6e-769a-414e-986e-edd3df10f545"
      },
      "execution_count": null,
      "outputs": [
        {
          "output_type": "stream",
          "name": "stdout",
          "text": [
            "Sorted array: [1, 5, 7, 8, 9, 10]\n"
          ]
        }
      ]
    },
    {
      "cell_type": "markdown",
      "source": [
        "**APPROXIMATION ALGORITHM**"
      ],
      "metadata": {
        "id": "eENbAFN8I-0Z"
      }
    },
    {
      "cell_type": "code",
      "source": [
        "def approx_vertex_cover(graph):\n",
        "\n",
        "    cover = set()\n",
        "    edges = set()\n",
        "    for u in graph:\n",
        "        for v in graph[u]:\n",
        "            if (v, u) not in edges:\n",
        "                edges.add((u, v))\n",
        "\n",
        "    while edges:\n",
        "        (u, v) = edges.pop()\n",
        "        cover.add(u)\n",
        "        cover.add(v)\n",
        "        edges = { (x, y) for (x, y) in edges if x != u and x != v and y != u and y != v }\n",
        "\n",
        "    return cover\n",
        "graph = {\n",
        "    1: {2, 3},\n",
        "    2: {1, 4},\n",
        "    3: {1, 4},\n",
        "    4: {2, 3}\n",
        "}\n",
        "\n",
        "cover = approx_vertex_cover(graph)\n",
        "print(\"Approximate Vertex Cover:\", cover)\n"
      ],
      "metadata": {
        "colab": {
          "base_uri": "https://localhost:8080/"
        },
        "id": "4q_ffjBSueIy",
        "outputId": "d628c6ed-dfe7-4d06-c0aa-f1d988aa0cdd"
      },
      "execution_count": null,
      "outputs": [
        {
          "output_type": "stream",
          "name": "stdout",
          "text": [
            "Approximate Vertex Cover: {1, 2, 3, 4}\n"
          ]
        }
      ]
    }
  ]
}